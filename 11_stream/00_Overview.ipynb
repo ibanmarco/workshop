{
 "cells": [
  {
   "cell_type": "markdown",
   "metadata": {},
   "source": [
    "# Continuous Machine Learning over Streaming Data\n",
    "\n",
    "Streaming technology provides you with the tools to ingest data as it is generated, process the data on-the-fly, and run real-time analytics on the data which can trigger actions. AWS offers a range of streaming tools as part of the [Amazon Kinesis](https://aws.amazon.com/kinesis/) family of services. \n",
    "\n",
    "Amazon Kinesis Data Streams and Video Streams let you ingest real-time data such as video, audio, application logs, website clickstreams, and IoT data for machine learning, analytics, and other applications. You can process and analyze the data as it arrives with Kinesis Data Analytics and take actions immediately. Kinesis Data Firehose prepares and loads the data continuously to the destination of your choice. "
   ]
  },
  {
   "cell_type": "markdown",
   "metadata": {},
   "source": [
    "In the following noteboooks, we will show you how you can start implementing continuous machine learning using the Kinesis streaming services. \n",
    "\n",
    "* Create a **Kinesis Data Firehose** delivery stream to receive live customer review data, and write the streaming data to S3.\n",
    "* Invoke a **SageMaker Endpoint** to predict the `star_rating` on streaming reviews \n",
    "* Analyze Streaming Data with **Kinesis Data Analytics**\n",
    "* Use a **Kinesis Data Streams** to ingest live customer review data. "
   ]
  },
  {
   "cell_type": "markdown",
   "metadata": {},
   "source": [
    "# Use Case 1: \n",
    "# Invoke a SageMaker Endpoint from Kinesis to receive a `star_rating` prediction "
   ]
  },
  {
   "cell_type": "markdown",
   "metadata": {},
   "source": [
    "<img src=\"img/kinesis_firehose_transform.png\" width=\"90%\" align=\"left\">"
   ]
  },
  {
   "cell_type": "markdown",
   "metadata": {},
   "source": [
    "# Use Case 2: \n",
    "# Analyze Streaming Data with Kinesis Data Analytics\n",
    "\n",
    "## _Calculating AVG Star Rating_"
   ]
  },
  {
   "cell_type": "markdown",
   "metadata": {},
   "source": [
    "<img src=\"img/use_case_1_analytics.png\" width=\"80%\" align=\"left\">"
   ]
  },
  {
   "cell_type": "markdown",
   "metadata": {},
   "source": [
    "## _Detect Anomalies of Streaming Data_"
   ]
  },
  {
   "cell_type": "markdown",
   "metadata": {},
   "source": [
    "<img src=\"img/use_case_2_anomaly.png\" width=\"80%\" align=\"left\">"
   ]
  },
  {
   "cell_type": "markdown",
   "metadata": {},
   "source": [
    "## _Calculate Approxmimate Counts of Streaming Data_"
   ]
  },
  {
   "cell_type": "markdown",
   "metadata": {},
   "source": [
    "<img src=\"img/use_case_3_count.png\" width=\"80%\" align=\"left\">"
   ]
  },
  {
   "cell_type": "markdown",
   "metadata": {},
   "source": [
    "# Use Case 3: \n",
    "# Implement Incremental Model Training with Streaming Data using Multi-Armed Bandit models"
   ]
  },
  {
   "cell_type": "markdown",
   "metadata": {},
   "source": [
    "<img src=\"img/use_case_4_bandit.png\" width=\"90%\" align=\"left\">"
   ]
  },
  {
   "cell_type": "code",
   "execution_count": null,
   "metadata": {},
   "outputs": [],
   "source": [
    "%%javascript\n",
    "Jupyter.notebook.save_checkpoint();\n",
    "Jupyter.notebook.session.delete();"
   ]
  }
 ],
 "metadata": {
  "kernelspec": {
   "display_name": "conda_python3",
   "language": "python",
   "name": "conda_python3"
  },
  "language_info": {
   "codemirror_mode": {
    "name": "ipython",
    "version": 3
   },
   "file_extension": ".py",
   "mimetype": "text/x-python",
   "name": "python",
   "nbconvert_exporter": "python",
   "pygments_lexer": "ipython3",
   "version": "3.6.10"
  }
 },
 "nbformat": 4,
 "nbformat_minor": 4
}
