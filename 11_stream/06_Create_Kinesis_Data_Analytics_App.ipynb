{
 "cells": [
  {
   "cell_type": "markdown",
   "metadata": {},
   "source": [
    "# Kinesis Data Analytics for SQL Applications\n",
    "\n",
    "To get started with Kinesis Data Analytics, you create a Kinesis data analytics application that continuously reads and processes streaming data."
   ]
  },
  {
   "cell_type": "markdown",
   "metadata": {},
   "source": [
    "<img src=\"img/use_case_1_analytics.png\" width=\"80%\" align=\"left\">"
   ]
  },
  {
   "cell_type": "markdown",
   "metadata": {},
   "source": [
    "<img src=\"img/use_case_2_anomaly.png\" width=\"80%\" align=\"left\">"
   ]
  },
  {
   "cell_type": "markdown",
   "metadata": {},
   "source": [
    "<img src=\"img/use_case_3_count.png\" width=\"80%\" align=\"left\">"
   ]
  },
  {
   "cell_type": "code",
   "execution_count": null,
   "metadata": {},
   "outputs": [],
   "source": [
    "import boto3\n",
    "import sagemaker\n",
    "import pandas as pd\n",
    "import json\n",
    "\n",
    "sess   = sagemaker.Session()\n",
    "bucket = sess.default_bucket()\n",
    "role = sagemaker.get_execution_role()\n",
    "region = boto3.Session().region_name\n",
    "\n",
    "sts = boto3.Session().client(service_name='sts', region_name=region)\n",
    "account_id = sts.get_caller_identity()['Account']\n",
    "\n",
    "sm = boto3.Session().client(service_name='sagemaker', region_name=region)\n",
    "firehose = boto3.Session().client(service_name='firehose', region_name=region)\n",
    "kinesis_analytics = boto3.Session().client(service_name='kinesisanalytics', region_name=region)"
   ]
  },
  {
   "cell_type": "code",
   "execution_count": null,
   "metadata": {},
   "outputs": [],
   "source": [
    "%store -r firehose_arn"
   ]
  },
  {
   "cell_type": "code",
   "execution_count": null,
   "metadata": {},
   "outputs": [],
   "source": [
    "try:\n",
    "    firehose_arn\n",
    "except NameError:\n",
    "    print('+++++++++++++++++++++++++++++++')\n",
    "    print('[ERROR] Please run all previous notebooks in this section before you continue.')\n",
    "    print('+++++++++++++++++++++++++++++++')"
   ]
  },
  {
   "cell_type": "code",
   "execution_count": null,
   "metadata": {},
   "outputs": [],
   "source": [
    "print(firehose_arn)"
   ]
  },
  {
   "cell_type": "code",
   "execution_count": null,
   "metadata": {},
   "outputs": [],
   "source": [
    "%store -r iam_role_kinesis_arn"
   ]
  },
  {
   "cell_type": "code",
   "execution_count": null,
   "metadata": {},
   "outputs": [],
   "source": [
    "try:\n",
    "    iam_role_kinesis_arn\n",
    "except NameError:\n",
    "    print('+++++++++++++++++++++++++++++++')\n",
    "    print('[ERROR] Please run all previous notebooks in this section before you continue.')\n",
    "    print('+++++++++++++++++++++++++++++++')"
   ]
  },
  {
   "cell_type": "code",
   "execution_count": null,
   "metadata": {},
   "outputs": [],
   "source": [
    "print(iam_role_kinesis_arn)"
   ]
  },
  {
   "cell_type": "code",
   "execution_count": null,
   "metadata": {},
   "outputs": [],
   "source": [
    "%store -r stream_arn"
   ]
  },
  {
   "cell_type": "code",
   "execution_count": null,
   "metadata": {},
   "outputs": [],
   "source": [
    "try:\n",
    "    stream_arn\n",
    "except NameError:\n",
    "    print('+++++++++++++++++++++++++++++++')\n",
    "    print('[ERROR] Please run all previous notebooks in this section before you continue.')\n",
    "    print('+++++++++++++++++++++++++++++++')"
   ]
  },
  {
   "cell_type": "code",
   "execution_count": null,
   "metadata": {},
   "outputs": [],
   "source": [
    "print(stream_arn)"
   ]
  },
  {
   "cell_type": "code",
   "execution_count": null,
   "metadata": {},
   "outputs": [],
   "source": [
    "%store -r lambda_fn_arn"
   ]
  },
  {
   "cell_type": "code",
   "execution_count": null,
   "metadata": {},
   "outputs": [],
   "source": [
    "try:\n",
    "    lambda_fn_arn\n",
    "except NameError:\n",
    "    print('+++++++++++++++++++++++++++++++')\n",
    "    print('[ERROR] Please run all previous notebooks in this section before you continue.')\n",
    "    print('+++++++++++++++++++++++++++++++')"
   ]
  },
  {
   "cell_type": "code",
   "execution_count": null,
   "metadata": {},
   "outputs": [],
   "source": [
    "print(lambda_fn_arn)"
   ]
  },
  {
   "cell_type": "code",
   "execution_count": null,
   "metadata": {},
   "outputs": [],
   "source": [
    "%store -r iam_role_lambda_arn"
   ]
  },
  {
   "cell_type": "code",
   "execution_count": null,
   "metadata": {},
   "outputs": [],
   "source": [
    "try:\n",
    "    iam_role_lambda_arn\n",
    "except NameError:\n",
    "    print('+++++++++++++++++++++++++++++++')\n",
    "    print('[ERROR] Please run all previous notebooks in this section before you continue.')\n",
    "    print('+++++++++++++++++++++++++++++++')"
   ]
  },
  {
   "cell_type": "code",
   "execution_count": null,
   "metadata": {},
   "outputs": [],
   "source": [
    "print(iam_role_lambda_arn)"
   ]
  },
  {
   "cell_type": "code",
   "execution_count": null,
   "metadata": {},
   "outputs": [],
   "source": [
    "%store -r lambda_fn_arn_invoke_ep"
   ]
  },
  {
   "cell_type": "code",
   "execution_count": null,
   "metadata": {},
   "outputs": [],
   "source": [
    "try:\n",
    "    lambda_fn_arn_invoke_ep\n",
    "except NameError:\n",
    "    print('+++++++++++++++++++++++++++++++')\n",
    "    print('[ERROR] Please run all previous notebooks in this section before you continue.')\n",
    "    print('+++++++++++++++++++++++++++++++')"
   ]
  },
  {
   "cell_type": "code",
   "execution_count": null,
   "metadata": {},
   "outputs": [],
   "source": [
    "print(lambda_fn_arn_invoke_ep)"
   ]
  },
  {
   "cell_type": "markdown",
   "metadata": {},
   "source": [
    "# Create a Kinesis Data Analytics for SQL Application\n"
   ]
  },
  {
   "cell_type": "markdown",
   "metadata": {},
   "source": [
    "## Define the Kinesis Analytics Application Name"
   ]
  },
  {
   "cell_type": "code",
   "execution_count": null,
   "metadata": {},
   "outputs": [],
   "source": [
    "kinesis_data_analytics_app_name = 'dsoaws-kinesis-data-analytics-sql-app'"
   ]
  },
  {
   "cell_type": "code",
   "execution_count": null,
   "metadata": {},
   "outputs": [],
   "source": [
    "in_app_stream_name = 'SOURCE_SQL_STREAM_001' # Default\n",
    "print(in_app_stream_name)"
   ]
  },
  {
   "cell_type": "markdown",
   "metadata": {},
   "source": [
    "## Create Application"
   ]
  },
  {
   "cell_type": "code",
   "execution_count": null,
   "metadata": {},
   "outputs": [],
   "source": [
    "window_seconds = 5"
   ]
  },
  {
   "cell_type": "code",
   "execution_count": null,
   "metadata": {},
   "outputs": [],
   "source": [
    "sql_code = ''' \\\n",
    "        CREATE OR REPLACE STREAM \"AVG_STAR_RATING_SQL_STREAM\" ( \\\n",
    "            avg_star_rating DOUBLE); \\\n",
    "        CREATE OR REPLACE PUMP \"AVG_STAR_RATING_STREAM_PUMP\" AS \\\n",
    "            INSERT INTO \"AVG_STAR_RATING_SQL_STREAM\" \\\n",
    "                SELECT STREAM AVG(CAST(\"star_rating\" AS DOUBLE)) AS avg_star_rating \\\n",
    "                FROM \"{}\" \\\n",
    "                GROUP BY \\\n",
    "                STEP(\"{}\".ROWTIME BY INTERVAL '{}' SECOND); \\\n",
    "         \\\n",
    "        CREATE OR REPLACE STREAM \"ANOMALY_SCORE_SQL_STREAM\" (anomaly_score DOUBLE); \\\n",
    "        CREATE OR REPLACE PUMP \"ANOMALY_SCORE_STREAM_PUMP\" AS \\\n",
    "            INSERT INTO \"ANOMALY_SCORE_SQL_STREAM\" \\\n",
    "            SELECT STREAM anomaly_score \\\n",
    "            FROM TABLE(RANDOM_CUT_FOREST( \\\n",
    "                CURSOR(SELECT STREAM \"star_rating\" \\\n",
    "                    FROM \"{}\" \\\n",
    "            ) \\\n",
    "          ) \\\n",
    "        ); \\\n",
    "         \\\n",
    "        CREATE OR REPLACE STREAM \"APPROXIMATE_COUNT_SQL_STREAM\" (number_of_distinct_items BIGINT); \\\n",
    "        CREATE OR REPLACE PUMP \"APPROXIMATE_COUNT_STREAM_PUMP\" AS \\\n",
    "            INSERT INTO \"APPROXIMATE_COUNT_SQL_STREAM\" \\\n",
    "            SELECT STREAM number_of_distinct_items \\\n",
    "            FROM TABLE(COUNT_DISTINCT_ITEMS_TUMBLING( \\\n",
    "                CURSOR(SELECT STREAM \"review_id\" FROM \"{}\"), \\\n",
    "                'review_id', \\\n",
    "                {} \\\n",
    "              ) \\\n",
    "        ); \\\n",
    "    '''.format(in_app_stream_name, \n",
    "             in_app_stream_name, \n",
    "             window_seconds,\n",
    "             in_app_stream_name, \n",
    "             in_app_stream_name, \n",
    "             window_seconds)\n",
    "\n",
    "print(sql_code)"
   ]
  },
  {
   "cell_type": "code",
   "execution_count": null,
   "metadata": {},
   "outputs": [],
   "source": [
    "from botocore.exceptions import ClientError\n",
    "\n",
    "try: \n",
    "    response = kinesis_analytics.create_application(\n",
    "        ApplicationName=kinesis_data_analytics_app_name,\n",
    "        Inputs=[\n",
    "            {\n",
    "                'NamePrefix': 'SOURCE_SQL_STREAM',\n",
    "                'KinesisFirehoseInput': {\n",
    "                    'ResourceARN': '{}'.format(firehose_arn),\n",
    "                    'RoleARN': '{}'.format(iam_role_kinesis_arn)\n",
    "                },\n",
    "                'InputProcessingConfiguration': { \n",
    "                    'InputLambdaProcessor': { \n",
    "                       'ResourceARN': '{}'.format(lambda_fn_arn_invoke_ep),\n",
    "                       'RoleARN': '{}'.format(iam_role_lambda_arn)\n",
    "                    }\n",
    "                 },                \n",
    "                'InputSchema': {\n",
    "                    'RecordFormat': {\n",
    "                        'RecordFormatType': 'CSV',\n",
    "                        'MappingParameters': {\n",
    "                            'CSVMappingParameters': {\n",
    "                                'RecordRowDelimiter': '\\n',\n",
    "                                'RecordColumnDelimiter': '\\t'\n",
    "                            }\n",
    "                        }\n",
    "                    },\n",
    "                    'RecordColumns': [\n",
    "                        {\n",
    "                            'Name': 'review_id',\n",
    "                            'Mapping': 'review_id',\n",
    "                            'SqlType': 'VARCHAR(14)'\n",
    "                        },                    \n",
    "                        {\n",
    "                            'Name': 'star_rating',\n",
    "                            'Mapping': 'star_rating',\n",
    "                            'SqlType': 'INTEGER'\n",
    "                        },\n",
    "                        {\n",
    "                            'Name': 'product_category',\n",
    "                            'Mapping': 'product_category',\n",
    "                            'SqlType': 'VARCHAR(24)'\n",
    "                        },                    \n",
    "                        {\n",
    "                            'Name': 'review_body',\n",
    "                            'Mapping': 'review_body',\n",
    "                            'SqlType': 'VARCHAR(65535)'\n",
    "                        }                    \n",
    "                    ]\n",
    "                }\n",
    "            },\n",
    "        ],\n",
    "        Outputs=[\n",
    "            {\n",
    "                'Name': 'AVG_STAR_RATING_STREAM',            \n",
    "                'KinesisStreamsOutput': {\n",
    "                    'ResourceARN': '{}'.format(stream_arn),\n",
    "                    'RoleARN': '{}'.format(iam_role_kinesis_arn)\n",
    "                },\n",
    "                'DestinationSchema': {\n",
    "                    'RecordFormatType': 'CSV'\n",
    "                }\n",
    "            },\n",
    "            {\n",
    "                'Name': 'AVG_STAR_RATING_SQL_STREAM',\n",
    "                'LambdaOutput': {\n",
    "                    'ResourceARN': '{}'.format(lambda_fn_arn),\n",
    "                    'RoleARN': '{}'.format(iam_role_lambda_arn)\n",
    "                },\n",
    "                'DestinationSchema': {\n",
    "                    'RecordFormatType': 'CSV'\n",
    "                }\n",
    "            }\n",
    "        ],\n",
    "        ApplicationCode=sql_code\n",
    "    )\n",
    "    print('SQL application {} successfully created.'.format(kinesis_data_analytics_app_name))\n",
    "    print(json.dumps(response, indent=4, sort_keys=True, default=str))\n",
    "except ClientError as e:\n",
    "    if e.response['Error']['Code'] == 'ResourceInUseException':\n",
    "        print('SQL App {} already exists.'.format(kinesis_data_analytics_app_name))\n",
    "    else:\n",
    "        print('Unexpected error: %s' % e)\n",
    "    "
   ]
  },
  {
   "cell_type": "code",
   "execution_count": null,
   "metadata": {
    "scrolled": true
   },
   "outputs": [],
   "source": [
    "response = kinesis_analytics.describe_application(ApplicationName=kinesis_data_analytics_app_name)\n",
    "print(json.dumps(response, indent=4, sort_keys=True, default=str))"
   ]
  },
  {
   "cell_type": "code",
   "execution_count": null,
   "metadata": {},
   "outputs": [],
   "source": [
    "input_id = response['ApplicationDetail']['InputDescriptions'][0]['InputId']\n",
    "print(input_id)"
   ]
  },
  {
   "cell_type": "markdown",
   "metadata": {},
   "source": [
    "# Start the Kinesis Data Analytics App"
   ]
  },
  {
   "cell_type": "code",
   "execution_count": null,
   "metadata": {},
   "outputs": [],
   "source": [
    "try: \n",
    "    response = kinesis_analytics.start_application(\n",
    "        ApplicationName=kinesis_data_analytics_app_name,\n",
    "        InputConfigurations=[\n",
    "            {\n",
    "                'Id': input_id,\n",
    "                'InputStartingPositionConfiguration': {\n",
    "                    'InputStartingPosition': 'NOW'\n",
    "                }\n",
    "            }\n",
    "        ]\n",
    "    )\n",
    "    print(json.dumps(response, indent=4, sort_keys=True, default=str))\n",
    "except ClientError as e:\n",
    "    if e.response['Error']['Code'] == 'ResourceInUseException':\n",
    "        print('Application {} is already starting.'.format(kinesis_data_analytics_app_name))\n",
    "    else:\n",
    "        print('Error: {}'.format(e))"
   ]
  },
  {
   "cell_type": "code",
   "execution_count": null,
   "metadata": {},
   "outputs": [],
   "source": [
    "%store kinesis_data_analytics_app_name"
   ]
  },
  {
   "cell_type": "markdown",
   "metadata": {},
   "source": [
    "# Explore Kinesis Data Analytics App"
   ]
  },
  {
   "cell_type": "code",
   "execution_count": null,
   "metadata": {},
   "outputs": [],
   "source": [
    "from IPython.core.display import display, HTML\n",
    "        \n",
    "display(HTML('<b>Review <a target=\"blank\" href=\"https://console.aws.amazon.com/kinesisanalytics/home?region={}#/wizard/hub?applicationName={}\"> Kinesis Data Analytics App</a></b>'.format(region, kinesis_data_analytics_app_name)))\n"
   ]
  },
  {
   "cell_type": "code",
   "execution_count": null,
   "metadata": {},
   "outputs": [],
   "source": [
    "response = kinesis_analytics.describe_application(ApplicationName=kinesis_data_analytics_app_name)"
   ]
  },
  {
   "cell_type": "code",
   "execution_count": null,
   "metadata": {},
   "outputs": [],
   "source": [
    "%%time\n",
    "\n",
    "import time\n",
    "\n",
    "app_status = response['ApplicationDetail']['ApplicationStatus']\n",
    "print('Application status {}'.format(app_status))\n",
    "\n",
    "while app_status != 'RUNNING':\n",
    "    time.sleep(5)\n",
    "    response = kinesis_analytics.describe_application(\n",
    "        ApplicationName=kinesis_data_analytics_app_name)\n",
    "    app_status = response['ApplicationDetail']['ApplicationStatus']\n",
    "    print('Application status {}'.format(app_status))\n",
    "\n",
    "print('Application status {}'.format(app_status))"
   ]
  },
  {
   "cell_type": "markdown",
   "metadata": {},
   "source": [
    "# _Please be patient.  ^^ This may take a few minutes. ^^_"
   ]
  },
  {
   "cell_type": "markdown",
   "metadata": {},
   "source": [
    "# Store Variables for Next Notebooks"
   ]
  },
  {
   "cell_type": "code",
   "execution_count": null,
   "metadata": {
    "scrolled": true
   },
   "outputs": [],
   "source": [
    "%store"
   ]
  },
  {
   "cell_type": "code",
   "execution_count": null,
   "metadata": {},
   "outputs": [],
   "source": [
    "%%javascript\n",
    "Jupyter.notebook.save_checkpoint();\n",
    "Jupyter.notebook.session.delete();"
   ]
  }
 ],
 "metadata": {
  "kernelspec": {
   "display_name": "conda_python3",
   "language": "python",
   "name": "conda_python3"
  },
  "language_info": {
   "codemirror_mode": {
    "name": "ipython",
    "version": 3
   },
   "file_extension": ".py",
   "mimetype": "text/x-python",
   "name": "python",
   "nbconvert_exporter": "python",
   "pygments_lexer": "ipython3",
   "version": "3.6.10"
  }
 },
 "nbformat": 4,
 "nbformat_minor": 4
}
