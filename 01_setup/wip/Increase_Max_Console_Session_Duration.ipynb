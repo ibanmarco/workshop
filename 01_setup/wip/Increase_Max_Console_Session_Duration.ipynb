{
 "cells": [
  {
   "cell_type": "markdown",
   "metadata": {},
   "source": [
    "# Increase AWS Console maximum session duration"
   ]
  },
  {
   "cell_type": "code",
   "execution_count": null,
   "metadata": {},
   "outputs": [],
   "source": [
    "import boto3\n",
    "import sagemaker\n",
    "import time\n",
    "from time import gmtime, strftime\n",
    "\n",
    "sagemaker_session = sagemaker.Session()\n",
    "role = sagemaker.get_execution_role()\n",
    "bucket = sagemaker_session.default_bucket()\n",
    "region = boto3.Session().region_name\n",
    "\n",
    "from botocore.config import Config\n",
    "\n",
    "config = Config(\n",
    "   retries = {\n",
    "      'max_attempts': 10,\n",
    "      'mode': 'adaptive'\n",
    "   }\n",
    ")\n",
    "\n",
    "iam = boto3.client('iam', config=config)"
   ]
  },
  {
   "cell_type": "code",
   "execution_count": null,
   "metadata": {},
   "outputs": [],
   "source": [
    "!aws configure set duration_seconds 43200"
   ]
  },
  {
   "cell_type": "code",
   "execution_count": null,
   "metadata": {},
   "outputs": [],
   "source": [
    "# Get IAM Roles\n",
    "iam_roles = iam.list_roles()['Roles']\n",
    "\n",
    "# Update relevant roles\n",
    "iam_roles_to_update = []\n",
    "for iam_role in iam_roles:\n",
    "    if iam_role['RoleName'].startswith('TeamRole'):\n",
    "        iam_role['MaxSessionDuration'] = 43200\n",
    "        print('Set role `{}` MaxSessionDuration to {}'.format(iam_role['RoleName'], iam_role['MaxSessionDuration']))\n",
    "        iam_roles_to_update.append(iam_role['RoleName'])\n",
    "        \n",
    "    elif iam_role['RoleName'].startswith('IibsAdminAccess'):\n",
    "        iam_role['MaxSessionDuration'] = 43200\n",
    "        print('Set role `{}` MaxSessionDuration to {}'.format(iam_role['RoleName'], iam_role['MaxSessionDuration']))\n",
    "        iam_roles_to_update.append(iam_role['RoleName'])"
   ]
  },
  {
   "cell_type": "code",
   "execution_count": null,
   "metadata": {},
   "outputs": [],
   "source": [
    "#for i in iam_roles_to_update:\n",
    "#    !aws iam update-role --role-name $i --max-session-duration 43200"
   ]
  }
 ],
 "metadata": {
  "kernelspec": {
   "display_name": "conda_python3",
   "language": "python",
   "name": "conda_python3"
  },
  "language_info": {
   "codemirror_mode": {
    "name": "ipython",
    "version": 3
   },
   "file_extension": ".py",
   "mimetype": "text/x-python",
   "name": "python",
   "nbconvert_exporter": "python",
   "pygments_lexer": "ipython3",
   "version": "3.6.10"
  }
 },
 "nbformat": 4,
 "nbformat_minor": 4
}
