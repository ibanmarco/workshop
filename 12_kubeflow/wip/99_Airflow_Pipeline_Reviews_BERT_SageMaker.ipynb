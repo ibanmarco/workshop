{
 "cells": [
  {
   "cell_type": "markdown",
   "metadata": {},
   "source": [
    "**SageMaker Repo:  Workflow/Airflow**:  \n",
    "https://github.com/aws/sagemaker-python-sdk/blob/master/src/sagemaker/workflow/airflow.py\n",
    "\n",
    "**Airflow Repo:  SageMaker Operators**: \n",
    "https://github.com/apache/airflow/tree/master/airflow/providers/amazon/aws"
   ]
  },
  {
   "cell_type": "markdown",
   "metadata": {},
   "source": [
    "# Define the Directed Acyclic Graph (DAG) of Execution"
   ]
  },
  {
   "cell_type": "code",
   "execution_count": null,
   "metadata": {},
   "outputs": [],
   "source": [
    "import airflow\n",
    "from airflow import DAG\n",
    "\n",
    "default_args = {\n",
    "    'owner': 'airflow',\n",
    "    'provide_context': True\n",
    "}\n",
    "\n",
    "dag = DAG('bert_reviews', default_args=default_args,\n",
    "          schedule_interval='@once')"
   ]
  },
  {
   "cell_type": "markdown",
   "metadata": {},
   "source": [
    "# SageMaker Processing Job Operator"
   ]
  },
  {
   "cell_type": "code",
   "execution_count": null,
   "metadata": {},
   "outputs": [],
   "source": [
    "from airflow.contrib.operators.sagemaker_processing_operator import SageMakerProcessingOperator\n",
    "from sagemaker.workflow.airflow import processing_config\n",
    "\n",
    "process_config = process_config(estimator=estimator,\n",
    "                                inputs=your_training_data_s3_uri)\n",
    "\n",
    "process_op = SageMakerProcessingOperator(\n",
    "    task_id='process',\n",
    "    config=processing_config,\n",
    "    wait_for_completion=True,\n",
    "    dag=dag)"
   ]
  },
  {
   "cell_type": "markdown",
   "metadata": {},
   "source": [
    "# SageMaker Training Job Operator"
   ]
  },
  {
   "cell_type": "code",
   "execution_count": null,
   "metadata": {},
   "outputs": [],
   "source": [
    "import sagemaker\n",
    "from sagemaker.tensorflow import TensorFlow\n",
    "\n",
    "estimator = TensorFlow(entry_point='tf_train.py',\n",
    "#                       role='sagemaker-role',\n",
    "#                       framework_version='1.11.0',\n",
    "#                       training_steps=1000,\n",
    "#                       evaluation_steps=100,\n",
    "#                       instance_count=2,\n",
    "#                       instance_type='ml.p2.xlarge')\n",
    "\n"
   ]
  },
  {
   "cell_type": "code",
   "execution_count": null,
   "metadata": {},
   "outputs": [],
   "source": [
    "from airflow.contrib.operators.sagemaker_training_operator import SageMakerTrainingOperator\n",
    "from sagemaker.workflow.airflow import training_config\n",
    "\n",
    "train_config = training_config(estimator=estimator,\n",
    "                               inputs=your_training_data_s3_uri)\n",
    "\n",
    "train_op = SageMakerTrainingOperator(\n",
    "    task_id='train',\n",
    "    config=train_config,\n",
    "    wait_for_completion=True,\n",
    "    dag=dag)\n",
    "\n",
    "train_op.set_upstream(process_op)"
   ]
  },
  {
   "cell_type": "markdown",
   "metadata": {},
   "source": [
    "# SageMaker Model Operator"
   ]
  },
  {
   "cell_type": "code",
   "execution_count": null,
   "metadata": {},
   "outputs": [],
   "source": [
    "from airflow.contrib.operators.sagemaker_model_operator import SageMakerModelOperator\n",
    "from sagemaker.workflow.airflow import model_config\n",
    "\n",
    "model_op = SageMakerModelOperator(\n",
    "    task_id='model',\n",
    "    config=model_config,\n",
    "    wait_for_completion=True,\n",
    "    dag=dag)\n",
    "\n",
    "model_op.set_upstream(train_op)"
   ]
  },
  {
   "cell_type": "markdown",
   "metadata": {},
   "source": [
    "# SageMaker Endpoint Operator"
   ]
  },
  {
   "cell_type": "code",
   "execution_count": null,
   "metadata": {},
   "outputs": [],
   "source": [
    "from airflow.contrib.operators.sagemaker_endpoint_operator import SageMakerEndpointOperator\n",
    "from sagemaker.workflow.airflow import endpoint_config, # deploy_config_from_estimator\n",
    "\n",
    "deploy_op = SageMakerEndpointOperator(\n",
    "    task_id='deploy',\n",
    "    config=endpoint_config,\n",
    "    wait_for_completion=True,\n",
    "    dag=dag)\n",
    "\n",
    "deploy_op.set_upstream(model_op)"
   ]
  },
  {
   "cell_type": "code",
   "execution_count": null,
   "metadata": {},
   "outputs": [],
   "source": []
  }
 ],
 "metadata": {
  "kernelspec": {
   "display_name": "conda_python3",
   "language": "python",
   "name": "conda_python3"
  },
  "language_info": {
   "codemirror_mode": {
    "name": "ipython",
    "version": 3
   },
   "file_extension": ".py",
   "mimetype": "text/x-python",
   "name": "python",
   "nbconvert_exporter": "python",
   "pygments_lexer": "ipython3",
   "version": "3.6.10"
  }
 },
 "nbformat": 4,
 "nbformat_minor": 4
}
